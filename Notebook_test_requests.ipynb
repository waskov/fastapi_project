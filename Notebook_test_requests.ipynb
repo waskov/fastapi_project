{
 "cells": [
  {
   "cell_type": "code",
   "execution_count": 1,
   "id": "ac0d83cb",
   "metadata": {},
   "outputs": [],
   "source": [
    "import requests"
   ]
  },
  {
   "cell_type": "code",
   "execution_count": 17,
   "id": "0003d5c6",
   "metadata": {},
   "outputs": [
    {
     "data": {
      "text/plain": [
       "'\"   ?column?\\\\n0         1\"'"
      ]
     },
     "execution_count": 17,
     "metadata": {},
     "output_type": "execute_result"
    }
   ],
   "source": [
    "url = 'http://0.0.0.0:3000/try_select'\n",
    "\n",
    "response = requests.get(url)\n",
    "\n",
    "response.text"
   ]
  },
  {
   "cell_type": "code",
   "execution_count": 33,
   "id": "a69b49a6",
   "metadata": {},
   "outputs": [
    {
     "data": {
      "text/plain": [
       "'\"API is ready\"'"
      ]
     },
     "execution_count": 33,
     "metadata": {},
     "output_type": "execute_result"
    }
   ],
   "source": [
    "url = 'http://0.0.0.0:3000/check'\n",
    "\n",
    "response = requests.get(url)\n",
    "\n",
    "response.text"
   ]
  },
  {
   "cell_type": "code",
   "execution_count": 19,
   "id": "81c4c116",
   "metadata": {},
   "outputs": [
    {
     "data": {
      "text/plain": [
       "'\"                table_name\\\\n0             pg_statistic\\\\n1                  pg_type\\\\n2         pg_foreign_table\\\\n3                pg_authid\\\\n4                pg_shadow\\\\n..                     ...\\\\n203  foreign_table_options\\\\n204         foreign_tables\\\\n205      _pg_user_mappings\\\\n206   user_mapping_options\\\\n207          user_mappings\\\\n\\\\n[208 rows x 1 columns]\"'"
      ]
     },
     "execution_count": 19,
     "metadata": {},
     "output_type": "execute_result"
    }
   ],
   "source": [
    "url = 'http://0.0.0.0:3000/get_tables'\n",
    "\n",
    "response = requests.get(url)\n",
    "\n",
    "response.text"
   ]
  },
  {
   "cell_type": "code",
   "execution_count": null,
   "id": "0c719fdd",
   "metadata": {},
   "outputs": [],
   "source": []
  },
  {
   "cell_type": "code",
   "execution_count": 20,
   "id": "640d7b90",
   "metadata": {},
   "outputs": [],
   "source": [
    "from sqlalchemy import create_engine\n",
    "import pandas as pd"
   ]
  },
  {
   "cell_type": "code",
   "execution_count": 31,
   "id": "1f8fef10",
   "metadata": {},
   "outputs": [],
   "source": [
    "username = \"user\"\n",
    "password = \"pass\"\n",
    "host = \"127.0.0.1\"\n",
    "port = \"5432\"\n",
    "database = \"mydatabase\"\n",
    "\n",
    "query = \"\"\"SELECT *\n",
    "FROM mytable\n",
    "\"\"\"\n",
    "engine = create_engine(f\"postgresql://{username}:{password}@{host}:{port}/{database}\")\n",
    "result = pd.read_sql(query, engine)\n"
   ]
  },
  {
   "cell_type": "code",
   "execution_count": 32,
   "id": "857a8fc9",
   "metadata": {},
   "outputs": [
    {
     "data": {
      "text/html": [
       "<div>\n",
       "<style scoped>\n",
       "    .dataframe tbody tr th:only-of-type {\n",
       "        vertical-align: middle;\n",
       "    }\n",
       "\n",
       "    .dataframe tbody tr th {\n",
       "        vertical-align: top;\n",
       "    }\n",
       "\n",
       "    .dataframe thead th {\n",
       "        text-align: right;\n",
       "    }\n",
       "</style>\n",
       "<table border=\"1\" class=\"dataframe\">\n",
       "  <thead>\n",
       "    <tr style=\"text-align: right;\">\n",
       "      <th></th>\n",
       "      <th>id</th>\n",
       "      <th>name</th>\n",
       "      <th>age</th>\n",
       "    </tr>\n",
       "  </thead>\n",
       "  <tbody>\n",
       "    <tr>\n",
       "      <th>0</th>\n",
       "      <td>1</td>\n",
       "      <td>John</td>\n",
       "      <td>25</td>\n",
       "    </tr>\n",
       "    <tr>\n",
       "      <th>1</th>\n",
       "      <td>2</td>\n",
       "      <td>Jane</td>\n",
       "      <td>30</td>\n",
       "    </tr>\n",
       "  </tbody>\n",
       "</table>\n",
       "</div>"
      ],
      "text/plain": [
       "   id  name  age\n",
       "0   1  John   25\n",
       "1   2  Jane   30"
      ]
     },
     "execution_count": 32,
     "metadata": {},
     "output_type": "execute_result"
    }
   ],
   "source": [
    "result"
   ]
  },
  {
   "cell_type": "code",
   "execution_count": null,
   "id": "3a1308d5",
   "metadata": {},
   "outputs": [],
   "source": []
  }
 ],
 "metadata": {
  "kernelspec": {
   "display_name": "Python 3 (ipykernel)",
   "language": "python",
   "name": "python3"
  },
  "language_info": {
   "codemirror_mode": {
    "name": "ipython",
    "version": 3
   },
   "file_extension": ".py",
   "mimetype": "text/x-python",
   "name": "python",
   "nbconvert_exporter": "python",
   "pygments_lexer": "ipython3",
   "version": "3.9.13"
  }
 },
 "nbformat": 4,
 "nbformat_minor": 5
}
